{
  "nbformat": 4,
  "nbformat_minor": 0,
  "metadata": {
    "colab": {
      "provenance": []
    },
    "kernelspec": {
      "name": "python3",
      "display_name": "Python 3"
    },
    "language_info": {
      "name": "python"
    }
  },
  "cells": [
    {
      "cell_type": "code",
      "source": [
        "import numpy as np\n",
        "\n",
        "x=np.array([[-1,-1],[-2,-2],[-3,-2],[1,1],[2,1],[3,2]])\n",
        "\n",
        "y=np.array([1,1,1,2,2,2])\n",
        "\n",
        "from sklearn.naive_bayes import GaussianNB\n",
        "\n",
        "model=GaussianNB()\n",
        "\n",
        "model.fit(x,y)\n",
        "\n",
        "print(model.predict([[-0.8,-1]]))\n",
        "\n",
        "print(model.predict([[10.8,-1]]))\n",
        "\n",
        "x_test=[[-0.8,-1],[10.8,-1]]\n",
        "\n",
        "y_test=[1,1]\n",
        "\n",
        "print(\"naive bayes code:\",model.score(x_test,y_test))"
      ],
      "metadata": {
        "colab": {
          "base_uri": "https://localhost:8080/"
        },
        "id": "MjlOQ_jkwxYv",
        "outputId": "91334d5e-6eb4-4aeb-9597-2c8b0f8abe92"
      },
      "execution_count": 12,
      "outputs": [
        {
          "output_type": "stream",
          "name": "stdout",
          "text": [
            "[1]\n",
            "[2]\n",
            "naive bayes code: 0.5\n"
          ]
        }
      ]
    }
  ]
}